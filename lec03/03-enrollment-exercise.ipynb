{
 "cells": [
  {
   "cell_type": "markdown",
   "metadata": {},
   "source": [
    "Before you turn this problem in, make sure everything runs as expected. First, **restart the kernel** (in the menubar, select Kernel$\\rightarrow$Restart) and then **run all cells** (in the menubar, select Cell$\\rightarrow$Run All).\n",
    "\n",
    "Make sure you fill in any place that says `YOUR CODE HERE` or \"YOUR ANSWER HERE\", as well as your name and collaborators below:"
   ]
  },
  {
   "cell_type": "code",
   "execution_count": 1,
   "metadata": {},
   "outputs": [],
   "source": [
    "NAME = \"\"\n",
    "COLLABORATORS = \"\""
   ]
  },
  {
   "cell_type": "markdown",
   "metadata": {},
   "source": [
    "---"
   ]
  },
  {
   "cell_type": "code",
   "execution_count": 2,
   "metadata": {},
   "outputs": [],
   "source": [
    "import numpy as np\n",
    "import pandas as pd"
   ]
  },
  {
   "cell_type": "code",
   "execution_count": 3,
   "metadata": {},
   "outputs": [
    {
     "data": {
      "text/html": [
       "<div>\n",
       "<style scoped>\n",
       "    .dataframe tbody tr th:only-of-type {\n",
       "        vertical-align: middle;\n",
       "    }\n",
       "\n",
       "    .dataframe tbody tr th {\n",
       "        vertical-align: top;\n",
       "    }\n",
       "\n",
       "    .dataframe thead th {\n",
       "        text-align: right;\n",
       "    }\n",
       "</style>\n",
       "<table border=\"1\" class=\"dataframe\">\n",
       "  <thead>\n",
       "    <tr style=\"text-align: right;\">\n",
       "      <th></th>\n",
       "      <th>Term</th>\n",
       "      <th>Subject</th>\n",
       "      <th>Number</th>\n",
       "      <th>CCN</th>\n",
       "      <th>Title</th>\n",
       "      <th>Type</th>\n",
       "      <th>Section#</th>\n",
       "      <th>Instructor</th>\n",
       "      <th>Meeting Times</th>\n",
       "      <th>Rejected Student Cnt</th>\n",
       "      <th>Enrollment Limit</th>\n",
       "      <th>Waitlist Limit Cnt</th>\n",
       "      <th>Enrollment Cnt</th>\n",
       "      <th>% Class Filled</th>\n",
       "      <th>% Class Filled.1</th>\n",
       "      <th>Waitlist Cnt</th>\n",
       "      <th>Include Sb Week Desc</th>\n",
       "    </tr>\n",
       "  </thead>\n",
       "  <tbody>\n",
       "    <tr>\n",
       "      <th>0</th>\n",
       "      <td>2018 Spring</td>\n",
       "      <td>Computer Science</td>\n",
       "      <td>9A</td>\n",
       "      <td>35350</td>\n",
       "      <td>Programmers' Matlab</td>\n",
       "      <td>Self-paced</td>\n",
       "      <td>1</td>\n",
       "      <td>Carol Marshall; Paul Hilfinger</td>\n",
       "      <td>12:00a-12:00a</td>\n",
       "      <td>23.0</td>\n",
       "      <td>10</td>\n",
       "      <td>100.0</td>\n",
       "      <td>8</td>\n",
       "      <td>80.00000</td>\n",
       "      <td>80.00000</td>\n",
       "      <td>0</td>\n",
       "      <td>Week 04</td>\n",
       "    </tr>\n",
       "    <tr>\n",
       "      <th>1</th>\n",
       "      <td>2018 Spring</td>\n",
       "      <td>Computer Science</td>\n",
       "      <td>9C</td>\n",
       "      <td>35351</td>\n",
       "      <td>Programmers' C</td>\n",
       "      <td>Self-paced</td>\n",
       "      <td>1</td>\n",
       "      <td>Carol Marshall; Paul Hilfinger</td>\n",
       "      <td>12:00a-12:00a</td>\n",
       "      <td>7.0</td>\n",
       "      <td>11</td>\n",
       "      <td>100.0</td>\n",
       "      <td>11</td>\n",
       "      <td>100.00000</td>\n",
       "      <td>100.00000</td>\n",
       "      <td>0</td>\n",
       "      <td>Week 04</td>\n",
       "    </tr>\n",
       "    <tr>\n",
       "      <th>2</th>\n",
       "      <td>2018 Spring</td>\n",
       "      <td>Computer Science</td>\n",
       "      <td>9E</td>\n",
       "      <td>35352</td>\n",
       "      <td>Productive Unix Use</td>\n",
       "      <td>Self-paced</td>\n",
       "      <td>1</td>\n",
       "      <td>Carol Marshall; Paul Hilfinger</td>\n",
       "      <td>12:00a-12:00a</td>\n",
       "      <td>25.0</td>\n",
       "      <td>36</td>\n",
       "      <td>100.0</td>\n",
       "      <td>36</td>\n",
       "      <td>100.00000</td>\n",
       "      <td>100.00000</td>\n",
       "      <td>0</td>\n",
       "      <td>Week 04</td>\n",
       "    </tr>\n",
       "    <tr>\n",
       "      <th>3</th>\n",
       "      <td>2018 Spring</td>\n",
       "      <td>Computer Science</td>\n",
       "      <td>9F</td>\n",
       "      <td>35353</td>\n",
       "      <td>Programmers' C++</td>\n",
       "      <td>Self-paced</td>\n",
       "      <td>1</td>\n",
       "      <td>Carol Marshall; Paul Hilfinger</td>\n",
       "      <td>12:00a-12:00a</td>\n",
       "      <td>22.0</td>\n",
       "      <td>38</td>\n",
       "      <td>100.0</td>\n",
       "      <td>33</td>\n",
       "      <td>86.84211</td>\n",
       "      <td>86.84211</td>\n",
       "      <td>0</td>\n",
       "      <td>Week 04</td>\n",
       "    </tr>\n",
       "    <tr>\n",
       "      <th>4</th>\n",
       "      <td>2018 Spring</td>\n",
       "      <td>Computer Science</td>\n",
       "      <td>9G</td>\n",
       "      <td>35354</td>\n",
       "      <td>Programmers' Java</td>\n",
       "      <td>Self-paced</td>\n",
       "      <td>1</td>\n",
       "      <td>Carol Marshall; Paul Hilfinger</td>\n",
       "      <td>12:00a-12:00a</td>\n",
       "      <td>8.0</td>\n",
       "      <td>12</td>\n",
       "      <td>100.0</td>\n",
       "      <td>11</td>\n",
       "      <td>91.66667</td>\n",
       "      <td>91.66667</td>\n",
       "      <td>0</td>\n",
       "      <td>Week 04</td>\n",
       "    </tr>\n",
       "  </tbody>\n",
       "</table>\n",
       "</div>"
      ],
      "text/plain": [
       "          Term           Subject Number    CCN                Title  \\\n",
       "0  2018 Spring  Computer Science     9A  35350  Programmers' Matlab   \n",
       "1  2018 Spring  Computer Science     9C  35351       Programmers' C   \n",
       "2  2018 Spring  Computer Science     9E  35352  Productive Unix Use   \n",
       "3  2018 Spring  Computer Science     9F  35353     Programmers' C++   \n",
       "4  2018 Spring  Computer Science     9G  35354    Programmers' Java   \n",
       "\n",
       "         Type Section#                      Instructor  Meeting Times  \\\n",
       "0  Self-paced        1  Carol Marshall; Paul Hilfinger  12:00a-12:00a   \n",
       "1  Self-paced        1  Carol Marshall; Paul Hilfinger  12:00a-12:00a   \n",
       "2  Self-paced        1  Carol Marshall; Paul Hilfinger  12:00a-12:00a   \n",
       "3  Self-paced        1  Carol Marshall; Paul Hilfinger  12:00a-12:00a   \n",
       "4  Self-paced        1  Carol Marshall; Paul Hilfinger  12:00a-12:00a   \n",
       "\n",
       "   Rejected Student Cnt  Enrollment Limit  Waitlist Limit Cnt  Enrollment Cnt  \\\n",
       "0                  23.0                10               100.0               8   \n",
       "1                   7.0                11               100.0              11   \n",
       "2                  25.0                36               100.0              36   \n",
       "3                  22.0                38               100.0              33   \n",
       "4                   8.0                12               100.0              11   \n",
       "\n",
       "   % Class Filled  % Class Filled.1  Waitlist Cnt Include Sb Week Desc  \n",
       "0        80.00000          80.00000             0              Week 04  \n",
       "1       100.00000         100.00000             0              Week 04  \n",
       "2       100.00000         100.00000             0              Week 04  \n",
       "3        86.84211          86.84211             0              Week 04  \n",
       "4        91.66667          91.66667             0              Week 04  "
      ]
     },
     "execution_count": 3,
     "metadata": {},
     "output_type": "execute_result"
    }
   ],
   "source": [
    "df = pd.read_csv(\"enrollments.csv\")\n",
    "df.head()"
   ]
  },
  {
   "cell_type": "code",
   "execution_count": 4,
   "metadata": {},
   "outputs": [
    {
     "data": {
      "text/html": [
       "<div>\n",
       "<style scoped>\n",
       "    .dataframe tbody tr th:only-of-type {\n",
       "        vertical-align: middle;\n",
       "    }\n",
       "\n",
       "    .dataframe tbody tr th {\n",
       "        vertical-align: top;\n",
       "    }\n",
       "\n",
       "    .dataframe thead th {\n",
       "        text-align: right;\n",
       "    }\n",
       "</style>\n",
       "<table border=\"1\" class=\"dataframe\">\n",
       "  <thead>\n",
       "    <tr style=\"text-align: right;\">\n",
       "      <th></th>\n",
       "      <th>Term</th>\n",
       "      <th>Subject</th>\n",
       "      <th>Number</th>\n",
       "      <th>Title</th>\n",
       "      <th>Enrollment Cnt</th>\n",
       "      <th>Instructor</th>\n",
       "    </tr>\n",
       "  </thead>\n",
       "  <tbody>\n",
       "    <tr>\n",
       "      <th>0</th>\n",
       "      <td>2018 Spring</td>\n",
       "      <td>Computer Science</td>\n",
       "      <td>9A</td>\n",
       "      <td>Programmers' Matlab</td>\n",
       "      <td>8</td>\n",
       "      <td>Carol Marshall; Paul Hilfinger</td>\n",
       "    </tr>\n",
       "    <tr>\n",
       "      <th>1</th>\n",
       "      <td>2018 Spring</td>\n",
       "      <td>Computer Science</td>\n",
       "      <td>9C</td>\n",
       "      <td>Programmers' C</td>\n",
       "      <td>11</td>\n",
       "      <td>Carol Marshall; Paul Hilfinger</td>\n",
       "    </tr>\n",
       "    <tr>\n",
       "      <th>2</th>\n",
       "      <td>2018 Spring</td>\n",
       "      <td>Computer Science</td>\n",
       "      <td>9E</td>\n",
       "      <td>Productive Unix Use</td>\n",
       "      <td>36</td>\n",
       "      <td>Carol Marshall; Paul Hilfinger</td>\n",
       "    </tr>\n",
       "    <tr>\n",
       "      <th>3</th>\n",
       "      <td>2018 Spring</td>\n",
       "      <td>Computer Science</td>\n",
       "      <td>9F</td>\n",
       "      <td>Programmers' C++</td>\n",
       "      <td>33</td>\n",
       "      <td>Carol Marshall; Paul Hilfinger</td>\n",
       "    </tr>\n",
       "    <tr>\n",
       "      <th>4</th>\n",
       "      <td>2018 Spring</td>\n",
       "      <td>Computer Science</td>\n",
       "      <td>9G</td>\n",
       "      <td>Programmers' Java</td>\n",
       "      <td>11</td>\n",
       "      <td>Carol Marshall; Paul Hilfinger</td>\n",
       "    </tr>\n",
       "  </tbody>\n",
       "</table>\n",
       "</div>"
      ],
      "text/plain": [
       "          Term           Subject Number                Title  Enrollment Cnt  \\\n",
       "0  2018 Spring  Computer Science     9A  Programmers' Matlab               8   \n",
       "1  2018 Spring  Computer Science     9C       Programmers' C              11   \n",
       "2  2018 Spring  Computer Science     9E  Productive Unix Use              36   \n",
       "3  2018 Spring  Computer Science     9F     Programmers' C++              33   \n",
       "4  2018 Spring  Computer Science     9G    Programmers' Java              11   \n",
       "\n",
       "                       Instructor  \n",
       "0  Carol Marshall; Paul Hilfinger  \n",
       "1  Carol Marshall; Paul Hilfinger  \n",
       "2  Carol Marshall; Paul Hilfinger  \n",
       "3  Carol Marshall; Paul Hilfinger  \n",
       "4  Carol Marshall; Paul Hilfinger  "
      ]
     },
     "execution_count": 4,
     "metadata": {},
     "output_type": "execute_result"
    }
   ],
   "source": [
    "df = df[[\"Term\", \"Subject\", \"Number\", \"Title\", \"Enrollment Cnt\", \"Instructor\"]]\n",
    "df.head()"
   ]
  },
  {
   "cell_type": "markdown",
   "metadata": {},
   "source": [
    "## Challenge One"
   ]
  },
  {
   "cell_type": "markdown",
   "metadata": {},
   "source": [
    "Try to find all Spring offerings of this course. Note, this dataset only contains Spring offerings, so there's no need to filter based on semester. The official \"Number\" for this class is \"C100\"."
   ]
  },
  {
   "cell_type": "code",
   "execution_count": 5,
   "metadata": {},
   "outputs": [
    {
     "data": {
      "text/html": [
       "<div>\n",
       "<style scoped>\n",
       "    .dataframe tbody tr th:only-of-type {\n",
       "        vertical-align: middle;\n",
       "    }\n",
       "\n",
       "    .dataframe tbody tr th {\n",
       "        vertical-align: top;\n",
       "    }\n",
       "\n",
       "    .dataframe thead th {\n",
       "        text-align: right;\n",
       "    }\n",
       "</style>\n",
       "<table border=\"1\" class=\"dataframe\">\n",
       "  <thead>\n",
       "    <tr style=\"text-align: right;\">\n",
       "      <th></th>\n",
       "      <th>Term</th>\n",
       "      <th>Subject</th>\n",
       "      <th>Number</th>\n",
       "      <th>Title</th>\n",
       "      <th>Enrollment Cnt</th>\n",
       "      <th>Instructor</th>\n",
       "    </tr>\n",
       "  </thead>\n",
       "  <tbody>\n",
       "    <tr>\n",
       "      <th>20</th>\n",
       "      <td>2018 Spring</td>\n",
       "      <td>Computer Science</td>\n",
       "      <td>C100</td>\n",
       "      <td>Princ&amp;Tech Data Sci</td>\n",
       "      <td>610</td>\n",
       "      <td>Fernando Perez; Joseph Gonzalez</td>\n",
       "    </tr>\n",
       "    <tr>\n",
       "      <th>387</th>\n",
       "      <td>2017 Spring</td>\n",
       "      <td>Computer Science</td>\n",
       "      <td>C100</td>\n",
       "      <td>Princ&amp;Tech Data Sci</td>\n",
       "      <td>67</td>\n",
       "      <td>Bin Yu; Deborah Nolan; Joseph Gonzalez; Joseph...</td>\n",
       "    </tr>\n",
       "    <tr>\n",
       "      <th>670</th>\n",
       "      <td>2017 Spring</td>\n",
       "      <td>Statistics</td>\n",
       "      <td>C100</td>\n",
       "      <td>Princ&amp;Tech Data Sci</td>\n",
       "      <td>28</td>\n",
       "      <td>Bin Yu; Deborah Nolan; Joseph Gonzalez; Joseph...</td>\n",
       "    </tr>\n",
       "  </tbody>\n",
       "</table>\n",
       "</div>"
      ],
      "text/plain": [
       "            Term           Subject Number                Title  \\\n",
       "20   2018 Spring  Computer Science   C100  Princ&Tech Data Sci   \n",
       "387  2017 Spring  Computer Science   C100  Princ&Tech Data Sci   \n",
       "670  2017 Spring        Statistics   C100  Princ&Tech Data Sci   \n",
       "\n",
       "     Enrollment Cnt                                         Instructor  \n",
       "20              610                    Fernando Perez; Joseph Gonzalez  \n",
       "387              67  Bin Yu; Deborah Nolan; Joseph Gonzalez; Joseph...  \n",
       "670              28  Bin Yu; Deborah Nolan; Joseph Gonzalez; Joseph...  "
      ]
     },
     "execution_count": 5,
     "metadata": {},
     "output_type": "execute_result"
    }
   ],
   "source": [
    "df[df[\"Number\"] == \"C100\"]"
   ]
  },
  {
   "cell_type": "code",
   "execution_count": 8,
   "metadata": {},
   "outputs": [
    {
     "data": {
      "text/plain": [
       "11"
      ]
     },
     "execution_count": 8,
     "metadata": {},
     "output_type": "execute_result"
    }
   ],
   "source": [
    "length = df['Term'].str.len()\n",
    "length"
   ]
  },
  {
   "cell_type": "markdown",
   "metadata": {},
   "source": [
    "## Challenge Two"
   ]
  },
  {
   "cell_type": "markdown",
   "metadata": {},
   "source": [
    "Create a series where each row correspond to one subject (e.g. English), and each value corresponds to the average number of students for courses in that subject. For example, your series might have a row saying that the average number of students in a Computer Science class is 88."
   ]
  },
  {
   "cell_type": "markdown",
   "metadata": {},
   "source": [
    "\n",
    "\n",
    "\n",
    "\n",
    "\n",
    "\n",
    "\n",
    "\n",
    "\n",
    "\n",
    "\n",
    "\n",
    "\n",
    "\n",
    "\n",
    "\n",
    "\n",
    "\n",
    "\n",
    "\n",
    "\n",
    "\n",
    "\n",
    "\n",
    "\n",
    "\n",
    "\n",
    " "
   ]
  },
  {
   "cell_type": "code",
   "execution_count": 6,
   "metadata": {},
   "outputs": [],
   "source": [
    "enrollment_grouped_by_subject = df[\"Enrollment Cnt\"].groupby(df[\"Subject\"])"
   ]
  },
  {
   "cell_type": "code",
   "execution_count": 7,
   "metadata": {},
   "outputs": [
    {
     "data": {
      "text/plain": [
       "Subject\n",
       "Computer Science                 88.073620\n",
       "Electrical Eng & Computer Sci    21.333333\n",
       "Electrical Engineering           36.339426\n",
       "English                          24.386286\n",
       "Philosophy                       41.516949\n",
       "Statistics                       60.301724\n",
       "Name: Enrollment Cnt, dtype: float64"
      ]
     },
     "execution_count": 7,
     "metadata": {},
     "output_type": "execute_result"
    }
   ],
   "source": [
    "enrollment_grouped_by_subject.mean()"
   ]
  },
  {
   "cell_type": "markdown",
   "metadata": {},
   "source": [
    "## Challenge Three"
   ]
  },
  {
   "cell_type": "markdown",
   "metadata": {},
   "source": [
    "Create a multi-indexed series where each row corresponds to one subject (e.g. English) offered during one semester (e.g. Spring 2017), and each value corresponds to the maximum number of students for courses in that subject during that semester. For example, you might have a row saying that the maximum number of students in a computer science course during Spring 2012 was 575."
   ]
  },
  {
   "cell_type": "code",
   "execution_count": null,
   "metadata": {},
   "outputs": [],
   "source": [
    "\n",
    "\n",
    "\n",
    "\n",
    "\n",
    "\n",
    "\n",
    "\n",
    "\n",
    "\n",
    "\n",
    "\n",
    "\n",
    "\n",
    "\n",
    "\n",
    "\n",
    "\n",
    "\n",
    "\n",
    "\n",
    "\n",
    "\n"
   ]
  },
  {
   "cell_type": "code",
   "execution_count": 8,
   "metadata": {},
   "outputs": [],
   "source": [
    "enrollment_grouped_by_subject_and_term = df[\"Enrollment Cnt\"].groupby([df[\"Subject\"], df[\"Term\"]])"
   ]
  },
  {
   "cell_type": "code",
   "execution_count": 9,
   "metadata": {},
   "outputs": [
    {
     "data": {
      "text/plain": [
       "Subject                        Term       \n",
       "Computer Science               2012 Spring     575\n",
       "                               2013 Spring     529\n",
       "                               2014 Spring     944\n",
       "                               2015 Spring     981\n",
       "                               2016 Spring    1156\n",
       "                               2017 Spring    1328\n",
       "                               2018 Spring    1379\n",
       "Electrical Eng & Computer Sci  2016 Spring      18\n",
       "                               2017 Spring      30\n",
       "                               2018 Spring     237\n",
       "Electrical Engineering         2012 Spring     204\n",
       "                               2013 Spring     238\n",
       "                               2014 Spring     384\n",
       "                               2015 Spring     383\n",
       "                               2016 Spring     698\n",
       "                               2017 Spring     775\n",
       "                               2018 Spring     825\n",
       "English                        2012 Spring     156\n",
       "                               2013 Spring     160\n",
       "                               2014 Spring     109\n",
       "                               2015 Spring     120\n",
       "                               2016 Spring     103\n",
       "                               2017 Spring     141\n",
       "                               2018 Spring     106\n",
       "Philosophy                     2012 Spring     160\n",
       "                               2013 Spring     187\n",
       "                               2014 Spring     172\n",
       "                               2015 Spring     197\n",
       "                               2016 Spring     200\n",
       "                               2017 Spring     242\n",
       "                               2018 Spring     236\n",
       "Statistics                     2012 Spring     316\n",
       "                               2013 Spring     285\n",
       "                               2014 Spring     299\n",
       "                               2015 Spring     444\n",
       "                               2016 Spring     450\n",
       "                               2017 Spring     393\n",
       "                               2018 Spring    1043\n",
       "Name: Enrollment Cnt, dtype: int64"
      ]
     },
     "execution_count": 9,
     "metadata": {},
     "output_type": "execute_result"
    }
   ],
   "source": [
    "enrollment_grouped_by_subject_and_term.max()"
   ]
  },
  {
   "cell_type": "markdown",
   "metadata": {},
   "source": [
    "## Challenge Four"
   ]
  },
  {
   "cell_type": "markdown",
   "metadata": {},
   "source": [
    "Try to compute the size of the largest class ever taught by each instructor. This challenge is stated more vaguely on purpose. You'll have to decide what the data structure looks like. Your result should be sorted in decreasing order of class size."
   ]
  },
  {
   "cell_type": "code",
   "execution_count": null,
   "metadata": {},
   "outputs": [],
   "source": [
    "\n",
    "\n",
    "\n",
    "\n",
    "\n",
    "\n",
    "\n",
    "\n",
    "\n",
    "\n",
    "\n",
    "\n",
    "\n",
    "\n",
    "\n",
    "\n",
    "\n",
    "\n",
    "\n",
    "\n",
    "\n",
    "\n",
    "\n",
    "\n",
    "\n"
   ]
  },
  {
   "cell_type": "code",
   "execution_count": 10,
   "metadata": {},
   "outputs": [],
   "source": [
    "enrollment_grouped_by_instructor = df[\"Enrollment Cnt\"].groupby(df[\"Instructor\"])"
   ]
  },
  {
   "cell_type": "code",
   "execution_count": 11,
   "metadata": {},
   "outputs": [
    {
     "data": {
      "text/plain": [
       "Instructor\n",
       "Joshua Hug                                                                        1379\n",
       "Joshua Hug; Joshua Hug                                                            1328\n",
       "John DeNero                                                                       1210\n",
       "Anindita Adhikari; Scott Lee                                                      1043\n",
       "John Denero                                                                        981\n",
       "Paul Hilfinger                                                                     965\n",
       "Jonathan Shewchuk                                                                  944\n",
       "Grace Zhang; Hannah Li; Laura Waller; Vladimir Stojanovic                          825\n",
       "Babak Ayazifar; Satish Rao                                                         812\n",
       "Babak Ayazifar; Vladimir Stojanovic                                                775\n",
       "Satish Rao                                                                         766\n",
       "Jean Walrand; Satish Rao                                                           707\n",
       "Babak Ayazifar; Elad Alon; Reia Cho                                                698\n",
       "Anca Dragan; Mohamad Baroudi; Sergey Levine                                        673\n",
       "Anca Dragan; Daniel Klein; Pieter Abbeel                                           645\n",
       "Arda Sahiner; Jaijeet Roychowdhury; Karina Chang; Michel Maharbiz; Nikunj Jain     631\n",
       "Alessandro Chiesa; Umesh Vazirani                                                  629\n",
       "Fernando Perez; Joseph Gonzalez                                                    610\n",
       "Raluca Popa                                                                        602\n",
       "Prasad Raghavendra; Sanjam Garg                                                    600\n",
       "Pieter Abbeel                                                                      589\n",
       "Anant Sahai                                                                        570\n",
       "Christos Papadimitriou; Prasad Raghavendra                                         544\n",
       "Umesh Vazirani                                                                     525\n",
       "Gerald Friedland; Nicholas Weaver; Rebecca Herman; Stephan Liu                     515\n",
       "Dylan Dreyer; John Wawrzynek; Nicholas Weaver; Peijie Li                           514\n",
       "David Wagner; Raluca Popa                                                          507\n",
       "Joseph Gonzalez; Joseph Hellerstein                                                496\n",
       "Amir Kamil                                                                         479\n",
       "Todd Green                                                                         472\n",
       "                                                                                  ... \n",
       "Katherine O'Brien O'Keeffe                                                           6\n",
       "Jasjeet Sekhon                                                                       6\n",
       "Lisa Wu                                                                              6\n",
       "Adam Wolisz; John Wawrzynek                                                          6\n",
       "John Wawrzynek; Nicholas Weaver; Taehwan Kim                                         5\n",
       "Joshua Cohen; Kinch Hoekstra                                                         5\n",
       "David Goldschmidt; Philip Stark                                                      5\n",
       "Margaret Kolb                                                                        5\n",
       "Omur Ozel                                                                            4\n",
       "Cameron Baradar; John Canny; Sam Kirschner                                           4\n",
       "Joshua Cohen; Nicholas Kolodny                                                       4\n",
       "Anthony Long                                                                         4\n",
       "Gautam Premnath                                                                      4\n",
       "Alan Hubbard; Mark Van Der Laan                                                      4\n",
       "Ryan Perry                                                                           4\n",
       "Moriel Vandsburger                                                                   4\n",
       "Kannan Ramchandran; Sinho Chewi                                                      3\n",
       "James Demmel; Ming Gu                                                                3\n",
       "Christopher Hull                                                                     2\n",
       "Mimi Koehl; Robert Full                                                              2\n",
       "Andrew Packard; Francesco Borrelli                                                   2\n",
       "Christopher Kutz; Joshua Cohen                                                       2\n",
       "Christopher Kutz                                                                     1\n",
       "Robert Dudley; Robert Full; Ronald Fearing                                           1\n",
       "Michael Clancy                                                                       1\n",
       "Carol Marshall; John DeNero                                                          1\n",
       "Rajarshi Mukherjee                                                                   1\n",
       "Robert Full                                                                          1\n",
       "Katherine Yelick                                                                     1\n",
       "Lotfi Zadeh                                                                          1\n",
       "Name: Enrollment Cnt, Length: 745, dtype: int64"
      ]
     },
     "execution_count": 11,
     "metadata": {},
     "output_type": "execute_result"
    }
   ],
   "source": [
    "enrollment_grouped_by_instructor.max().sort_values(ascending=False)"
   ]
  },
  {
   "cell_type": "code",
   "execution_count": null,
   "metadata": {},
   "outputs": [],
   "source": []
  },
  {
   "cell_type": "markdown",
   "metadata": {},
   "source": [
    "## Submission\n",
    "\n",
    "You're done!\n",
    "\n",
    "Before submitting this assignment, ensure to:\n",
    "\n",
    "1. Restart the Kernel (in the menubar, select Kernel->Restart & Run All)\n",
    "2. Validate the notebook by clicking the \"Validate\" button\n",
    "\n",
    "Finally, make sure to **submit** the assignment via the Assignments tab in Datahub"
   ]
  }
 ],
 "metadata": {
  "kernelspec": {
   "display_name": "Python 3",
   "language": "python",
   "name": "python3"
  },
  "language_info": {
   "codemirror_mode": {
    "name": "ipython",
    "version": 3
   },
   "file_extension": ".py",
   "mimetype": "text/x-python",
   "name": "python",
   "nbconvert_exporter": "python",
   "pygments_lexer": "ipython3",
   "version": "3.6.4"
  }
 },
 "nbformat": 4,
 "nbformat_minor": 2
}
