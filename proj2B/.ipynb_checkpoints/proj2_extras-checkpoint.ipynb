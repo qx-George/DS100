{
 "cells": [
  {
   "cell_type": "markdown",
   "metadata": {},
   "source": [
    "Before you turn in the homework, make sure everything runs as expected. To do so, select **Kernel**$\\rightarrow$**Restart & Run All** in the toolbar above.  Remember to submit both on **DataHub** and **Gradescope**.\n",
    "\n",
    "Please fill in your name and include a list of your collaborators below."
   ]
  },
  {
   "cell_type": "code",
   "execution_count": 1,
   "metadata": {},
   "outputs": [],
   "source": [
    "NAME = \"Xiong Qiao\"\n",
    "COLLABORATORS = \"\""
   ]
  },
  {
   "cell_type": "markdown",
   "metadata": {},
   "source": [
    "---"
   ]
  },
  {
   "cell_type": "markdown",
   "metadata": {},
   "source": [
    "# Project 2: NYC Taxi Rides\n",
    "# Extras\n",
    "\n",
    "Put all of your extra work in here. Feel free to save figures to use when completing Part 4."
   ]
  },
  {
   "cell_type": "markdown",
   "metadata": {},
   "source": [
    "Features to use:\n",
    "1. pickup location\n",
    "2. dropoff location\n",
    "3. manhattan distance\n",
    "4. number of accidents by spatial and teamporary proximity seperately (from extra dataset)\n",
    "5. total amount is a good feature !!!!! but has outliers(> 500 must be outliers)\n",
    "6. pickup time (can be used as several features after conversion, like day, hour)"
   ]
  },
  {
   "cell_type": "code",
   "execution_count": 2,
   "metadata": {},
   "outputs": [],
   "source": [
    "import os\n",
    "import pandas as pd\n",
    "import numpy as np\n",
    "import sklearn.linear_model as lm\n",
    "import matplotlib.pyplot as plt\n",
    "import seaborn as sns\n",
    "from pathlib import Path\n",
    "from sqlalchemy import create_engine\n",
    "from sklearn.model_selection import cross_val_score, train_test_split, GridSearchCV\n",
    "\n",
    "sns.set(style=\"whitegrid\", palette=\"muted\")\n",
    "\n",
    "plt.rcParams['figure.figsize'] = (12, 9)\n",
    "plt.rcParams['font.size'] = 12\n",
    "\n",
    "%matplotlib inline"
   ]
  },
  {
   "cell_type": "code",
   "execution_count": 3,
   "metadata": {},
   "outputs": [],
   "source": [
    "# Run this cell to load the data. \n",
    "data_file = Path(\"./\", \"cleaned_data.hdf\")\n",
    "train_df = pd.read_hdf(data_file, \"train\")\n",
    "val_df = pd.read_hdf(data_file, \"val\")\n",
    "test_df = pd.read_csv(\"./proj2_test_data.csv\")\n",
    "test_df['tpep_pickup_datetime'] = pd.to_datetime(test_df['tpep_pickup_datetime'])"
   ]
  },
  {
   "cell_type": "code",
   "execution_count": 4,
   "metadata": {},
   "outputs": [
    {
     "data": {
      "text/plain": [
       "(17724, 21)"
      ]
     },
     "execution_count": 4,
     "metadata": {},
     "output_type": "execute_result"
    }
   ],
   "source": [
    "train_df.shape"
   ]
  },
  {
   "cell_type": "code",
   "execution_count": 5,
   "metadata": {},
   "outputs": [
    {
     "data": {
      "text/html": [
       "<div>\n",
       "<style scoped>\n",
       "    .dataframe tbody tr th:only-of-type {\n",
       "        vertical-align: middle;\n",
       "    }\n",
       "\n",
       "    .dataframe tbody tr th {\n",
       "        vertical-align: top;\n",
       "    }\n",
       "\n",
       "    .dataframe thead th {\n",
       "        text-align: right;\n",
       "    }\n",
       "</style>\n",
       "<table border=\"1\" class=\"dataframe\">\n",
       "  <thead>\n",
       "    <tr style=\"text-align: right;\">\n",
       "      <th></th>\n",
       "      <th>record_id</th>\n",
       "      <th>VendorID</th>\n",
       "      <th>passenger_count</th>\n",
       "      <th>trip_distance</th>\n",
       "      <th>pickup_longitude</th>\n",
       "      <th>pickup_latitude</th>\n",
       "      <th>RatecodeID</th>\n",
       "      <th>dropoff_longitude</th>\n",
       "      <th>dropoff_latitude</th>\n",
       "      <th>payment_type</th>\n",
       "      <th>fare_amount</th>\n",
       "      <th>extra</th>\n",
       "      <th>mta_tax</th>\n",
       "      <th>tip_amount</th>\n",
       "      <th>tolls_amount</th>\n",
       "      <th>improvement_surcharge</th>\n",
       "      <th>total_amount</th>\n",
       "      <th>duration</th>\n",
       "    </tr>\n",
       "  </thead>\n",
       "  <tbody>\n",
       "    <tr>\n",
       "      <th>count</th>\n",
       "      <td>1.772400e+04</td>\n",
       "      <td>17724.000000</td>\n",
       "      <td>17724.000000</td>\n",
       "      <td>17724.000000</td>\n",
       "      <td>17724.000000</td>\n",
       "      <td>17724.000000</td>\n",
       "      <td>17724.000000</td>\n",
       "      <td>17724.000000</td>\n",
       "      <td>17724.000000</td>\n",
       "      <td>17724.000000</td>\n",
       "      <td>17724.000000</td>\n",
       "      <td>17724.000000</td>\n",
       "      <td>17724.000000</td>\n",
       "      <td>17724.000000</td>\n",
       "      <td>17724.000000</td>\n",
       "      <td>17724.000000</td>\n",
       "      <td>17724.000000</td>\n",
       "      <td>17724.000000</td>\n",
       "    </tr>\n",
       "    <tr>\n",
       "      <th>mean</th>\n",
       "      <td>5.320997e+06</td>\n",
       "      <td>1.535150</td>\n",
       "      <td>1.677104</td>\n",
       "      <td>2.791220</td>\n",
       "      <td>-73.973560</td>\n",
       "      <td>40.750997</td>\n",
       "      <td>1.024317</td>\n",
       "      <td>-73.973800</td>\n",
       "      <td>40.751805</td>\n",
       "      <td>1.343320</td>\n",
       "      <td>12.079944</td>\n",
       "      <td>0.316746</td>\n",
       "      <td>0.499295</td>\n",
       "      <td>1.717841</td>\n",
       "      <td>0.257233</td>\n",
       "      <td>0.299882</td>\n",
       "      <td>15.170895</td>\n",
       "      <td>788.248984</td>\n",
       "    </tr>\n",
       "    <tr>\n",
       "      <th>std</th>\n",
       "      <td>3.158004e+06</td>\n",
       "      <td>0.498777</td>\n",
       "      <td>1.324193</td>\n",
       "      <td>3.407549</td>\n",
       "      <td>0.037279</td>\n",
       "      <td>0.027404</td>\n",
       "      <td>0.188317</td>\n",
       "      <td>0.031831</td>\n",
       "      <td>0.029220</td>\n",
       "      <td>0.489689</td>\n",
       "      <td>9.592095</td>\n",
       "      <td>0.370191</td>\n",
       "      <td>0.020899</td>\n",
       "      <td>2.332004</td>\n",
       "      <td>1.181777</td>\n",
       "      <td>0.008124</td>\n",
       "      <td>11.873333</td>\n",
       "      <td>681.753361</td>\n",
       "    </tr>\n",
       "    <tr>\n",
       "      <th>min</th>\n",
       "      <td>6.000000e+02</td>\n",
       "      <td>1.000000</td>\n",
       "      <td>1.000000</td>\n",
       "      <td>0.000000</td>\n",
       "      <td>-74.018150</td>\n",
       "      <td>40.631680</td>\n",
       "      <td>1.000000</td>\n",
       "      <td>-74.029533</td>\n",
       "      <td>40.630047</td>\n",
       "      <td>1.000000</td>\n",
       "      <td>-3.500000</td>\n",
       "      <td>-0.500000</td>\n",
       "      <td>-0.500000</td>\n",
       "      <td>0.000000</td>\n",
       "      <td>0.000000</td>\n",
       "      <td>-0.300000</td>\n",
       "      <td>-4.800000</td>\n",
       "      <td>2.000000</td>\n",
       "    </tr>\n",
       "    <tr>\n",
       "      <th>25%</th>\n",
       "      <td>2.604200e+06</td>\n",
       "      <td>1.000000</td>\n",
       "      <td>1.000000</td>\n",
       "      <td>1.000000</td>\n",
       "      <td>-73.991783</td>\n",
       "      <td>40.737520</td>\n",
       "      <td>1.000000</td>\n",
       "      <td>-73.991043</td>\n",
       "      <td>40.736912</td>\n",
       "      <td>1.000000</td>\n",
       "      <td>6.500000</td>\n",
       "      <td>0.000000</td>\n",
       "      <td>0.500000</td>\n",
       "      <td>0.000000</td>\n",
       "      <td>0.000000</td>\n",
       "      <td>0.300000</td>\n",
       "      <td>8.300000</td>\n",
       "      <td>380.000000</td>\n",
       "    </tr>\n",
       "    <tr>\n",
       "      <th>50%</th>\n",
       "      <td>5.208950e+06</td>\n",
       "      <td>2.000000</td>\n",
       "      <td>1.000000</td>\n",
       "      <td>1.620000</td>\n",
       "      <td>-73.981541</td>\n",
       "      <td>40.754307</td>\n",
       "      <td>1.000000</td>\n",
       "      <td>-73.979877</td>\n",
       "      <td>40.754805</td>\n",
       "      <td>1.000000</td>\n",
       "      <td>9.000000</td>\n",
       "      <td>0.000000</td>\n",
       "      <td>0.500000</td>\n",
       "      <td>1.260000</td>\n",
       "      <td>0.000000</td>\n",
       "      <td>0.300000</td>\n",
       "      <td>11.300000</td>\n",
       "      <td>623.000000</td>\n",
       "    </tr>\n",
       "    <tr>\n",
       "      <th>75%</th>\n",
       "      <td>8.215850e+06</td>\n",
       "      <td>2.000000</td>\n",
       "      <td>2.000000</td>\n",
       "      <td>3.000000</td>\n",
       "      <td>-73.966925</td>\n",
       "      <td>40.768437</td>\n",
       "      <td>1.000000</td>\n",
       "      <td>-73.963705</td>\n",
       "      <td>40.769506</td>\n",
       "      <td>2.000000</td>\n",
       "      <td>14.000000</td>\n",
       "      <td>0.500000</td>\n",
       "      <td>0.500000</td>\n",
       "      <td>2.260000</td>\n",
       "      <td>0.000000</td>\n",
       "      <td>0.300000</td>\n",
       "      <td>16.800000</td>\n",
       "      <td>1000.000000</td>\n",
       "    </tr>\n",
       "    <tr>\n",
       "      <th>max</th>\n",
       "      <td>1.090610e+07</td>\n",
       "      <td>2.000000</td>\n",
       "      <td>6.000000</td>\n",
       "      <td>35.430000</td>\n",
       "      <td>-73.775398</td>\n",
       "      <td>40.847172</td>\n",
       "      <td>5.000000</td>\n",
       "      <td>-73.750351</td>\n",
       "      <td>40.849998</td>\n",
       "      <td>4.000000</td>\n",
       "      <td>135.000000</td>\n",
       "      <td>1.000000</td>\n",
       "      <td>0.500000</td>\n",
       "      <td>100.000000</td>\n",
       "      <td>16.620000</td>\n",
       "      <td>0.300000</td>\n",
       "      <td>154.840000</td>\n",
       "      <td>27297.000000</td>\n",
       "    </tr>\n",
       "  </tbody>\n",
       "</table>\n",
       "</div>"
      ],
      "text/plain": [
       "          record_id      VendorID  passenger_count  trip_distance  \\\n",
       "count  1.772400e+04  17724.000000     17724.000000   17724.000000   \n",
       "mean   5.320997e+06      1.535150         1.677104       2.791220   \n",
       "std    3.158004e+06      0.498777         1.324193       3.407549   \n",
       "min    6.000000e+02      1.000000         1.000000       0.000000   \n",
       "25%    2.604200e+06      1.000000         1.000000       1.000000   \n",
       "50%    5.208950e+06      2.000000         1.000000       1.620000   \n",
       "75%    8.215850e+06      2.000000         2.000000       3.000000   \n",
       "max    1.090610e+07      2.000000         6.000000      35.430000   \n",
       "\n",
       "       pickup_longitude  pickup_latitude    RatecodeID  dropoff_longitude  \\\n",
       "count      17724.000000     17724.000000  17724.000000       17724.000000   \n",
       "mean         -73.973560        40.750997      1.024317         -73.973800   \n",
       "std            0.037279         0.027404      0.188317           0.031831   \n",
       "min          -74.018150        40.631680      1.000000         -74.029533   \n",
       "25%          -73.991783        40.737520      1.000000         -73.991043   \n",
       "50%          -73.981541        40.754307      1.000000         -73.979877   \n",
       "75%          -73.966925        40.768437      1.000000         -73.963705   \n",
       "max          -73.775398        40.847172      5.000000         -73.750351   \n",
       "\n",
       "       dropoff_latitude  payment_type   fare_amount         extra  \\\n",
       "count      17724.000000  17724.000000  17724.000000  17724.000000   \n",
       "mean          40.751805      1.343320     12.079944      0.316746   \n",
       "std            0.029220      0.489689      9.592095      0.370191   \n",
       "min           40.630047      1.000000     -3.500000     -0.500000   \n",
       "25%           40.736912      1.000000      6.500000      0.000000   \n",
       "50%           40.754805      1.000000      9.000000      0.000000   \n",
       "75%           40.769506      2.000000     14.000000      0.500000   \n",
       "max           40.849998      4.000000    135.000000      1.000000   \n",
       "\n",
       "            mta_tax    tip_amount  tolls_amount  improvement_surcharge  \\\n",
       "count  17724.000000  17724.000000  17724.000000           17724.000000   \n",
       "mean       0.499295      1.717841      0.257233               0.299882   \n",
       "std        0.020899      2.332004      1.181777               0.008124   \n",
       "min       -0.500000      0.000000      0.000000              -0.300000   \n",
       "25%        0.500000      0.000000      0.000000               0.300000   \n",
       "50%        0.500000      1.260000      0.000000               0.300000   \n",
       "75%        0.500000      2.260000      0.000000               0.300000   \n",
       "max        0.500000    100.000000     16.620000               0.300000   \n",
       "\n",
       "       total_amount      duration  \n",
       "count  17724.000000  17724.000000  \n",
       "mean      15.170895    788.248984  \n",
       "std       11.873333    681.753361  \n",
       "min       -4.800000      2.000000  \n",
       "25%        8.300000    380.000000  \n",
       "50%       11.300000    623.000000  \n",
       "75%       16.800000   1000.000000  \n",
       "max      154.840000  27297.000000  "
      ]
     },
     "execution_count": 5,
     "metadata": {},
     "output_type": "execute_result"
    }
   ],
   "source": [
    "# Show the summary of training data\n",
    "train_df.describe()"
   ]
  },
  {
   "cell_type": "code",
   "execution_count": 6,
   "metadata": {},
   "outputs": [
    {
     "name": "stdout",
     "output_type": "stream",
     "text": [
      "(17724, 21) (17603, 21)\n"
     ]
    }
   ],
   "source": [
    "# Remove the data of Jan 23, which has a bllizard and will introduce noise\n",
    "train_remove = train_df[train_df['tpep_pickup_datetime'].dt.day != 23]\n",
    "print(train_df.shape, train_remove.shape)"
   ]
  },
  {
   "cell_type": "code",
   "execution_count": 7,
   "metadata": {},
   "outputs": [
    {
     "name": "stdout",
     "output_type": "stream",
     "text": [
      "(17600, 21)\n"
     ]
    }
   ],
   "source": [
    "# Remove outlires from training data\n",
    "\"\"\"\n",
    "1. remove total_amount < 0\n",
    "2. remove improvement_surcharge < 0\n",
    "3. remove mta_tax < 0\n",
    "4. remove extra < 0\n",
    "5. remove fare_amount < 0\n",
    "\"\"\"\n",
    "\n",
    "index = (train_remove['tolls_amount'] >= 0) & (train_remove['improvement_surcharge'] >=\n",
    "            0) & (train_remove['mta_tax'] >= 0) & (train_remove['extra'] >= 0) & (train_remove['fare_amount'] >= 0)\n",
    "\n",
    "train_clean = train_remove.loc[index, :]\n",
    "print(train_clean.shape)"
   ]
  },
  {
   "cell_type": "code",
   "execution_count": 8,
   "metadata": {},
   "outputs": [
    {
     "data": {
      "image/png": "[encoded data removed]",
      "text/plain": [
       "<matplotlib.figure.Figure at 0x7f29615d4ef0>"
      ]
     },
     "metadata": {},
     "output_type": "display_data"
    }
   ],
   "source": [
    "fig, ax = plt.subplots(figsize=(12, 9))\n",
    "\n",
    "clean_amount = train_df[train_df['duration'] <= 8000]\n",
    "\n",
    "sns.scatterplot(x='total_amount', y='duration', data=clean_amount, ax=ax)\n",
    "plt.title('Relationshop between Trip Amount and Duration')\n",
    "plt.show()"
   ]
  },
  {
   "cell_type": "code",
   "execution_count": 9,
   "metadata": {},
   "outputs": [
    {
     "name": "stdout",
     "output_type": "stream",
     "text": [
      "\n",
      "From the above the scatter plot, we see there is a strong positive relationship between total amount of the trip and\n",
      "the duration. So total_amount could be a really good feature to predict trip duration.\n",
      "\n"
     ]
    }
   ],
   "source": [
    "amount_plot_analysis = r\"\"\"\n",
    "From the above the scatter plot, we see there is a strong positive relationship between total amount of the trip and\n",
    "the duration. So total_amount could be a really good feature to predict trip duration.\n",
    "\"\"\"\n",
    "\n",
    "print(amount_plot_analysis)"
   ]
  },
  {
   "cell_type": "code",
   "execution_count": 10,
   "metadata": {},
   "outputs": [
    {
     "name": "stdout",
     "output_type": "stream",
     "text": [
      "(17544, 21)\n"
     ]
    }
   ],
   "source": [
    "# Remove rows whose duration is too much from training data\n",
    "train_clean = train_clean[train_clean['duration'] <= 4000]\n",
    "print(train_clean.shape)"
   ]
  },
  {
   "cell_type": "code",
   "execution_count": 11,
   "metadata": {},
   "outputs": [
    {
     "data": {
      "image/png": "[encoded data removed]",
      "text/plain": [
       "<matplotlib.figure.Figure at 0x7f299c3a0240>"
      ]
     },
     "metadata": {},
     "output_type": "display_data"
    }
   ],
   "source": [
    "# Continue exploring the distribution of duration\n",
    "plt.figure(figsize=(12, 9))\n",
    "\n",
    "sns.boxplot(train_clean['duration'])\n",
    "\n",
    "plt.show()"
   ]
  },
  {
   "cell_type": "markdown",
   "metadata": {},
   "source": [
    "From part2, we know day of the week and hour of day could also reduce error as features."
   ]
  },
  {
   "cell_type": "markdown",
   "metadata": {},
   "source": [
    "From part3, we know the number of accidents with spatial/temporal proximity could also be good features, but they\n",
    "cannot be used together. Here I first try to use spatial locality."
   ]
  },
  {
   "cell_type": "code",
   "execution_count": 12,
   "metadata": {},
   "outputs": [],
   "source": [
    "# Copied from part 3\n",
    "def merge_collision_columns(df):\n",
    "    # Load the data from part 4. \n",
    "    data_file = Path(\"data/part3\", \"data_part3.hdf\")\n",
    "    collisions_subset = pd.read_hdf(data_file, \"collisions_subset\")\n",
    "    \n",
    "#     collisions_subset.drop(columns=['DATETIME', 'TIME', 'START', 'END', 'SEVERITY'], inplace=True)\n",
    "#     collisions_subset = collisions_subset[['DATE', 'LATITUDE', 'LONGITUDE']]\n",
    "#     collisions_subset = collisions_subset.iloc[:10000]\n",
    "    \n",
    "    # Merge\n",
    "    df.is_copy = False # propogate write to original dataframe\n",
    "    df.loc[:, 'date'] = df['tpep_pickup_datetime'].dt.date\n",
    "    # Quite important\n",
    "    df.reset_index(inplace=True)\n",
    "    merged = df.merge(collisions_subset, left_on='date', right_on='DATE')\n",
    "\n",
    "    start_to_accident = haversine(merged['pickup_latitude'].values,\n",
    "                              merged['pickup_longitude'].values,\n",
    "                              merged['LATITUDE'].values,\n",
    "                              merged['LONGITUDE'].values)\n",
    "    \n",
    "    merged['start_to_accident'] = start_to_accident\n",
    "    \n",
    "    index = (merged['start_to_accident'] <= 5)\n",
    "    # Count accidents\n",
    "    merged['accident_close'] = 0\n",
    "    merged.loc[index, 'accident_close'] = 1\n",
    "    \n",
    "    num_accidents = merged.groupby(['index'])['accident_close'].sum().to_frame()\n",
    "    \n",
    "    df.loc[index, 'num_accidents'] = num_accidents\n",
    "    df['num_accidents'].fillna(df['num_accidents'].median(), inplace=True)\n",
    "\n",
    "    df.drop(columns=['tpep_pickup_datetime', 'index', 'date'], inplace=True)\n",
    "   \n",
    "    return df"
   ]
  },
  {
   "cell_type": "markdown",
   "metadata": {},
   "source": [
    "One disadvantage of using num_accidents feature is that it can need to use real time traffic information, i.e. \n",
    "accidents with spatial/temporal proximity to during the infrence time which is quite time and memory consuming.\n",
    "\n",
    "Due to memory limitation, we can only load the nearby accidents for a centrain week, rather than load all date in \n",
    "January. This result in many NaNs in the final num_accidents feature. Though we could use mean to fill the NaN values, this will makes the value of this feature drops a lot. "
   ]
  },
  {
   "cell_type": "code",
   "execution_count": 13,
   "metadata": {},
   "outputs": [],
   "source": [
    "# Make all the data cleaning work into one function\n",
    "def clean_data(df):\n",
    "    index = (df['tpep_pickup_datetime'].dt.day != 23) & (df['tolls_amount'] >= 0) \\\n",
    "                & (df['improvement_surcharge'] >= 0) & (df['mta_tax'] >= 0) & (df['extra'] >= 0) \\\n",
    "                & (df['fare_amount'] >= 0) & (df['duration'] <= 4000) & (df['duration'] >= 150)\n",
    "    return df.loc[index, :]"
   ]
  },
  {
   "cell_type": "code",
   "execution_count": 14,
   "metadata": {},
   "outputs": [],
   "source": [
    "# Copied from part 2\n",
    "def haversine(lat1, lng1, lat2, lng2):\n",
    "    \"\"\"\n",
    "    Compute haversine distance\n",
    "    \"\"\"\n",
    "    lat1, lng1, lat2, lng2 = map(np.radians, (lat1, lng1, lat2, lng2))\n",
    "    average_earth_radius = 6371\n",
    "    lat = lat2 - lat1\n",
    "    lng = lng2 - lng1\n",
    "    d = np.sin(lat * 0.5) ** 2 + np.cos(lat1) * np.cos(lat2) * np.sin(lng * 0.5) ** 2\n",
    "    h = 2 * average_earth_radius * np.arcsin(np.sqrt(d))\n",
    "    return h\n",
    "\n",
    "# Copied from part 2\n",
    "def manhattan_distance(lat1, lng1, lat2, lng2):\n",
    "    \"\"\"\n",
    "    Compute Manhattan distance\n",
    "    \"\"\"\n",
    "    a = haversine(lat1, lng1, lat1, lng2)\n",
    "    b = haversine(lat1, lng1, lat2, lng1)\n",
    "    return a + b\n",
    "\n",
    "# Copied from part 2\n",
    "def bearing(lat1, lng1, lat2, lng2):\n",
    "    \"\"\"\n",
    "    Compute the bearing, or angle, from (lat1, lng1) to (lat2, lng2).\n",
    "    A bearing of 0 refers to a NORTH orientation.\n",
    "    \"\"\"\n",
    "    lng_delta_rad = np.radians(lng2 - lng1)\n",
    "    lat1, lng1, lat2, lng2 = map(np.radians, (lat1, lng1, lat2, lng2))\n",
    "    y = np.sin(lng_delta_rad) * np.cos(lat2)\n",
    "    x = np.cos(lat1) * np.sin(lat2) - np.sin(lat1) * np.cos(lat2) * np.cos(lng_delta_rad)\n",
    "    return np.degrees(np.arctan2(y, x))\n",
    "\n",
    "# Copied from part 2\n",
    "def add_time_columns(df):\n",
    "    \"\"\"\n",
    "    Add temporal features to df\n",
    "    \"\"\"\n",
    "    df.is_copy = False # propogate write to original dataframe\n",
    "    df.loc[:, 'month'] = df['tpep_pickup_datetime'].dt.month\n",
    "    df.loc[:, 'week_of_year'] = df['tpep_pickup_datetime'].dt.weekofyear\n",
    "    df.loc[:, 'day_of_month'] = df['tpep_pickup_datetime'].dt.day\n",
    "    df.loc[:, 'day_of_week'] = df['tpep_pickup_datetime'].dt.dayofweek\n",
    "    df.loc[:, 'hour'] = df['tpep_pickup_datetime'].dt.hour\n",
    "    df.loc[:, 'week_hour'] = df['tpep_pickup_datetime'].dt.weekday * 24 + df['hour']\n",
    "    return df\n",
    "\n",
    "# Copied from part 2\n",
    "def add_distance_columns(df):\n",
    "    \"\"\"\n",
    "    Add distance features to df\n",
    "    \"\"\"\n",
    "    df.is_copy = False # propogate write to original dataframe\n",
    "    df.loc[:, 'manhattan'] = manhattan_distance(lat1=df['pickup_latitude'],\n",
    "                                                lng1=df['pickup_longitude'],\n",
    "                                                lat2=df['dropoff_latitude'],\n",
    "                                                lng2=df['dropoff_longitude'])\n",
    "\n",
    "    df.loc[:, 'bearing'] = bearing(lat1=df['pickup_latitude'],\n",
    "                                   lng1=df['pickup_longitude'],\n",
    "                                   lat2=df['dropoff_latitude'],\n",
    "                                   lng2=df['dropoff_longitude'])\n",
    "    df.loc[:, 'haversine'] = haversine(lat1=df['pickup_latitude'],\n",
    "                                   lng1=df['pickup_longitude'],\n",
    "                                   lat2=df['dropoff_latitude'],\n",
    "                                   lng2=df['dropoff_longitude'])\n",
    "    return df\n",
    "\n",
    "def select_columns(data, *columns):\n",
    "    return data.loc[:, columns]"
   ]
  },
  {
   "cell_type": "code",
   "execution_count": 15,
   "metadata": {},
   "outputs": [],
   "source": [
    "def process_data_fm(data, test=False):\n",
    "    if not test:\n",
    "        data = clean_data(data)\n",
    "    # Put your final pipeline here\n",
    "    X = (\n",
    "        data\n",
    "        \n",
    "        # Transform data\n",
    "        .pipe(add_time_columns)\n",
    "        .pipe(add_distance_columns)\n",
    "        \n",
    "        .pipe(select_columns,        \n",
    "              'pickup_longitude',  \n",
    "              'pickup_latitude',   \n",
    "              'dropoff_longitude', \n",
    "              'dropoff_latitude',\n",
    "              'manhattan',\n",
    "              'total_amount',\n",
    "              'day_of_week',\n",
    "              'hour',\n",
    "              'trip_distance',\n",
    "              'passenger_count',\n",
    "              'tolls_amount',\n",
    "              'tip_amount',\n",
    "              'extra',\n",
    "              'fare_amount'\n",
    "             )\n",
    "    )\n",
    "    if test:\n",
    "        y = None\n",
    "    else:\n",
    "        y = data['duration']\n",
    "        \n",
    "    return X, y\n",
    "\n",
    "def mae(actual, predicted):\n",
    "    \n",
    "    mae = np.mean(np.abs(actual - predicted))\n",
    "    return mae"
   ]
  },
  {
   "cell_type": "code",
   "execution_count": 16,
   "metadata": {},
   "outputs": [
    {
     "name": "stderr",
     "output_type": "stream",
     "text": [
      "/srv/conda/envs/data100/lib/python3.6/site-packages/pandas/core/generic.py:4388: FutureWarning: Attribute 'is_copy' is deprecated and will be removed in a future version.\n",
      "  object.__getattribute__(self, name)\n",
      "/srv/conda/envs/data100/lib/python3.6/site-packages/pandas/core/generic.py:4389: FutureWarning: Attribute 'is_copy' is deprecated and will be removed in a future version.\n",
      "  return object.__setattr__(self, name, value)\n"
     ]
    },
    {
     "data": {
      "image/png": "[encoded data removed]",
      "text/plain": [
       "<matplotlib.figure.Figure at 0x7f295c5f8978>"
      ]
     },
     "metadata": {},
     "output_type": "display_data"
    }
   ],
   "source": [
    "# Besides outliers which have high durations, there could also be outliers with really low durations, \n",
    "# here we try to find a good lower bound on duration so that our error can be reduced obviously\n",
    "lower_bound = np.linspace(1, 400, 80)\n",
    "\n",
    "mae_train = []\n",
    "mae_val = []\n",
    "for low in lower_bound:\n",
    "    train_duration = train_clean[(train_clean['duration'] <= 4000) & (train_clean['duration'] >= low)]\n",
    "    X_train_duration, y_train_duration = process_data_fm(train_duration)\n",
    "    X_val_duration, y_val_duration = process_data_fm(val_df)\n",
    "    model = lm.Ridge(fit_intercept=True)\n",
    "    model.fit(X_train_duration, y_train_duration)\n",
    "    \n",
    "    y_train_pred = model.predict(X_train_duration)\n",
    "    y_val_pred = model.predict(X_val_duration)\n",
    "    mae_train.append(mae(y_train_duration, y_train_pred))\n",
    "    mae_val.append(mae(y_val_duration, y_val_pred))\n",
    "\n",
    "fig, axes = plt.subplots(2, 1, figsize=(12, 9))\n",
    "ax1 = axes[0]\n",
    "ax2 = axes[1]\n",
    "\n",
    "sns.scatterplot(x=lower_bound, y=mae_train, s=20, color='r', ax=ax1)\n",
    "ax1.set_xlabel('lower bound')\n",
    "ax1.set_ylabel('mae')\n",
    "ax1.set_title('Training lower_bound vs mae')\n",
    "\n",
    "sns.scatterplot(x=lower_bound, y=mae_val, s=20, color='r', ax=ax2)\n",
    "ax2.set_xlabel('lower bound')\n",
    "ax2.set_ylabel('mae')\n",
    "ax2.set_title('Val lower_bound vs mae')\n",
    "plt.show()"
   ]
  },
  {
   "cell_type": "code",
   "execution_count": 17,
   "metadata": {},
   "outputs": [
    {
     "name": "stdout",
     "output_type": "stream",
     "text": [
      "mae error with Ridge is 91.79498835118243\n"
     ]
    },
    {
     "name": "stderr",
     "output_type": "stream",
     "text": [
      "/srv/conda/envs/data100/lib/python3.6/site-packages/pandas/core/generic.py:4388: FutureWarning: Attribute 'is_copy' is deprecated and will be removed in a future version.\n",
      "  object.__getattribute__(self, name)\n",
      "/srv/conda/envs/data100/lib/python3.6/site-packages/pandas/core/generic.py:4389: FutureWarning: Attribute 'is_copy' is deprecated and will be removed in a future version.\n",
      "  return object.__setattr__(self, name, value)\n"
     ]
    }
   ],
   "source": [
    "# Try different loss functions\n",
    "# Train\n",
    "X_train, y_train = process_data_fm(train_df)\n",
    "X_val, y_val = process_data_fm(val_df)\n",
    "\n",
    "\n",
    "model = lm.Ridge(fit_intercept=True)\n",
    "model.fit(X_train, y_train)\n",
    "\n",
    "# Predict\n",
    "y_val_pred = model.predict(X_val)\n",
    "error = mae(y_val_pred, y_val)\n",
    "print(f\"mae error with Ridge is {error}\")"
   ]
  },
  {
   "cell_type": "code",
   "execution_count": 18,
   "metadata": {},
   "outputs": [
    {
     "name": "stderr",
     "output_type": "stream",
     "text": [
      "/srv/conda/envs/data100/lib/python3.6/site-packages/pandas/core/generic.py:4388: FutureWarning: Attribute 'is_copy' is deprecated and will be removed in a future version.\n",
      "  object.__getattribute__(self, name)\n",
      "/srv/conda/envs/data100/lib/python3.6/site-packages/pandas/core/generic.py:4389: FutureWarning: Attribute 'is_copy' is deprecated and will be removed in a future version.\n",
      "  return object.__setattr__(self, name, value)\n"
     ]
    },
    {
     "name": "stdout",
     "output_type": "stream",
     "text": [
      "mae error with Lasso is 92.9610936551919\n"
     ]
    },
    {
     "name": "stderr",
     "output_type": "stream",
     "text": [
      "/srv/conda/envs/data100/lib/python3.6/site-packages/sklearn/linear_model/coordinate_descent.py:491: ConvergenceWarning: Objective did not converge. You might want to increase the number of iterations. Fitting data with very small alpha may cause precision problems.\n",
      "  ConvergenceWarning)\n"
     ]
    }
   ],
   "source": [
    "# Try different loss functions\n",
    "\n",
    "X_train, y_train = process_data_fm(train_df)\n",
    "X_val, y_val = process_data_fm(val_df)\n",
    "\n",
    "\n",
    "model = lm.Lasso(fit_intercept=True)\n",
    "model.fit(X_train, y_train)\n",
    "\n",
    "# Predict\n",
    "y_val_pred = model.predict(X_val)\n",
    "error = mae(y_val_pred, y_val)\n",
    "print(f\"mae error with Lasso is {error}\")"
   ]
  },
  {
   "cell_type": "markdown",
   "metadata": {},
   "source": [
    "I thought that we could use speed as a feature to predict the duration score. However, we couldn't compute it directly as we have no access to duration in test_df. Though we could follow the same path as part 2 using clustering\n",
    "approach, it essentially uses the pickup_location feature which we've already included in our features. Hence, I think it's not necessary to add speed feature at this stage."
   ]
  },
  {
   "cell_type": "markdown",
   "metadata": {},
   "source": [
    "## Submission\n",
    "\n",
    "You're almost done!\n",
    "\n",
    "Before submitting this assignment, ensure that you have:\n",
    "\n",
    "1. Restarted the Kernel (in the menubar, select Kernel$\\rightarrow$Restart & Run All)\n",
    "2. Validated the notebook by clicking the \"Validate\" button.\n",
    "\n",
    "Then,\n",
    "\n",
    "1. **Submit** the assignment via the Assignments tab in **Datahub** \n",
    "1. **Upload and tag** the manually reviewed portions of the assignment on **Gradescope**"
   ]
  }
 ],
 "metadata": {
  "kernelspec": {
   "display_name": "Python 3",
   "language": "python",
   "name": "python3"
  },
  "language_info": {
   "codemirror_mode": {
    "name": "ipython",
    "version": 3
   },
   "file_extension": ".py",
   "mimetype": "text/x-python",
   "name": "python",
   "nbconvert_exporter": "python",
   "pygments_lexer": "ipython3",
   "version": "3.6.4"
  }
 },
 "nbformat": 4,
 "nbformat_minor": 2
}
